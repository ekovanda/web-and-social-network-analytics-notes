{
 "cells": [
  {
   "cell_type": "markdown",
   "metadata": {},
   "source": [
    "## Exercise 1"
   ]
  },
  {
   "cell_type": "markdown",
   "metadata": {},
   "source": [
    "Just using beautiful soup go to the description of this course and extract the number of SCQF level for it. http://www.drps.ed.ac.uk/20-21/dpt/cxcmse11427.htm\n",
    "\n",
    "Spoiler alert: the content should be 'SCQF Level ...'.\n",
    "\n",
    "hint: you can use `in` to check for occurance of a word in a sentence\n",
    "\n",
    "```\n",
    "    if 'banana' in 'a sentence with bananas':\n",
    "        print('this sentence has a word banana in it')\n",
    "        \n",
    "    if word in sentence:\n",
    "        print('this sentence has a word in it')\n",
    "```"
   ]
  },
  {
   "cell_type": "code",
   "execution_count": 4,
   "metadata": {},
   "outputs": [
    {
     "name": "stdout",
     "output_type": "stream",
     "text": [
      "Collecting bs4\n",
      "  Downloading bs4-0.0.1.tar.gz (1.1 kB)\n",
      "Requirement already satisfied: beautifulsoup4 in c:\\users\\s2112348\\anaconda3\\lib\\site-packages (from bs4) (4.9.3)\n",
      "Requirement already satisfied: soupsieve>1.2; python_version >= \"3.0\" in c:\\users\\s2112348\\anaconda3\\lib\\site-packages (from beautifulsoup4->bs4) (2.0.1)\n",
      "Building wheels for collected packages: bs4\n",
      "  Building wheel for bs4 (setup.py): started\n",
      "  Building wheel for bs4 (setup.py): finished with status 'done'\n",
      "  Created wheel for bs4: filename=bs4-0.0.1-py3-none-any.whl size=1277 sha256=18922d2f976dced0227c48655dd2c9afdd2c962b91bbd9f4d92d16b1e8416baa\n",
      "  Stored in directory: c:\\users\\s2112348\\appdata\\local\\pip\\cache\\wheels\\75\\78\\21\\68b124549c9bdc94f822c02fb9aa3578a669843f9767776bca\n",
      "Successfully built bs4\n",
      "Installing collected packages: bs4\n",
      "Successfully installed bs4-0.0.1\n"
     ]
    }
   ],
   "source": [
    "!pip install bs4\n",
    "from urllib.request import urlopen\n",
    "import os\n",
    "from bs4 import BeautifulSoup"
   ]
  },
  {
   "cell_type": "code",
   "execution_count": 45,
   "metadata": {},
   "outputs": [
    {
     "name": "stdout",
     "output_type": "stream",
     "text": [
      "SCQF Level 11 (Postgraduate)\n"
     ]
    }
   ],
   "source": [
    "# website address\n",
    "page = 'http://www.drps.ed.ac.uk/20-21/dpt/cxcmse11427.htm'\n",
    "\n",
    "# open the url and store the website\n",
    "website = urlopen(page)\n",
    "\n",
    "# convert the website's content, for this a parser is needed. In this case a html parser\n",
    "soup = BeautifulSoup(website, 'html.parser')\n",
    "\n",
    "# Retrieve the cell that contains 'SCQF Level'\n",
    "# ....\n",
    "\n",
    "table = soup.find('table', {'class':'sitstablegrid'})\n",
    "\n",
    "for cell in table.findChildren('td'):\n",
    "    if \"SCQF Level\" in cell.text:\n",
    "        print(cell.text)\n",
    "\n",
    "\n",
    "\n",
    "\n",
    "\n",
    "\n",
    "\n",
    "\n",
    "\n",
    "# hints:\n",
    "#     what type of a tag is it in? how can you get all items of that type? \n",
    "#     how will you check if they incude these words?"
   ]
  },
  {
   "cell_type": "code",
   "execution_count": 54,
   "metadata": {},
   "outputs": [
    {
     "name": "stdout",
     "output_type": "stream",
     "text": [
      "Block 3 (Sem 2)\n",
      "60 cells searched.\n"
     ]
    }
   ],
   "source": [
    "tables = soup.find_all(\"table\", {\"class\":\"sitstablegrid\"})\n",
    "\n",
    "c = 0\n",
    "for table in tables:\n",
    "    for cell in table.findChildren(\"td\"):\n",
    "        if \"Block\" in cell.text:\n",
    "            print(cell.text)\n",
    "        c +=1\n",
    "print(f\"{c} cells searched.\")\n"
   ]
  },
  {
   "cell_type": "code",
   "execution_count": 55,
   "metadata": {},
   "outputs": [
    {
     "name": "stdout",
     "output_type": "stream",
     "text": [
      "Block 3 (Sem 2)\n",
      "5 cells searched.\n"
     ]
    }
   ],
   "source": [
    "c = 0\n",
    "for table in tables:\n",
    "    for cell in table.findChildren(\"td\", {\"colspan\":14}):\n",
    "        if \"Block\" in cell.text:\n",
    "            print(cell.text)\n",
    "        c +=1\n",
    "print(f\"{c} cells searched.\")"
   ]
  }
 ],
 "metadata": {
  "kernelspec": {
   "display_name": "Python 3",
   "language": "python",
   "name": "python3"
  },
  "language_info": {
   "codemirror_mode": {
    "name": "ipython",
    "version": 3
   },
   "file_extension": ".py",
   "mimetype": "text/x-python",
   "name": "python",
   "nbconvert_exporter": "python",
   "pygments_lexer": "ipython3",
   "version": "3.8.5"
  }
 },
 "nbformat": 4,
 "nbformat_minor": 2
}
