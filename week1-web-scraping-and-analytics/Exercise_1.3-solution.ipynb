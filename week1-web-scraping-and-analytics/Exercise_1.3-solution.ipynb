{
 "cells": [
  {
   "cell_type": "markdown",
   "metadata": {},
   "source": [
    "## Exercise 3"
   ]
  },
  {
   "cell_type": "markdown",
   "metadata": {},
   "source": [
    "Apply the same code you used before to retrieve all Tweets of Taylor Swift, Barack Obama, or any Tweeter you like\n",
    "- Find the number of retweets\n",
    "- Write the scores to a csv file"
   ]
  },
  {
   "cell_type": "code",
   "execution_count": 1,
   "metadata": {},
   "outputs": [],
   "source": [
    "import time\n",
    "from selenium import webdriver\n",
    "from selenium.webdriver.common.keys import Keys"
   ]
  },
  {
   "cell_type": "code",
   "execution_count": 2,
   "metadata": {},
   "outputs": [],
   "source": [
    "# define method that will create a browser, suitable to your operating system\n",
    "import sys\n",
    "def get_a_browser():\n",
    "    if sys.platform.startswith('win32') or sys.platform.startswith('cygwin'):\n",
    "        return webdriver.Chrome() # windows\n",
    "    else:\n",
    "        return webdriver.Chrome('./chromedriver') # mac"
   ]
  },
  {
   "cell_type": "code",
   "execution_count": 3,
   "metadata": {},
   "outputs": [
    {
     "name": "stdout",
     "output_type": "stream",
     "text": [
      "Retweets: 28.7K\n",
      "Retweets: 26.8K\n",
      "Retweets: 98.6K\n",
      "Retweets: 38.8K\n",
      "Retweets: 35.7K\n",
      "Retweets: 17K\n",
      "Retweets: 18.9K\n",
      "Retweets: 9.8K\n",
      "Retweets: 10.7K\n",
      "Retweets: 18.5K\n",
      "Retweets: 12.8K\n",
      "Retweets: 16.3K\n"
     ]
    }
   ],
   "source": [
    "# launch the browser\n",
    "browser = get_a_browser()\n",
    "\n",
    "# launch the Twitter search page\n",
    "twitter_url = 'https://twitter.com/taylorswift13'\n",
    "\n",
    "# Add the search term\n",
    "query = ''\n",
    "\n",
    "# Create the url\n",
    "url = twitter_url+query\n",
    "\n",
    "# Get the page\n",
    "browser.get(url)\n",
    "\n",
    "# Let the Tweets load\n",
    "time.sleep(1)\n",
    "\n",
    "# Find the body of the page\n",
    "body = browser.find_element_by_tag_name('body')\n",
    "\n",
    "# Keep scrolling down using a simulation of the PAGE_DOWN button\n",
    "for _ in range(5):\n",
    "    body.send_keys(Keys.PAGE_DOWN)\n",
    "    time.sleep(0.2)\n",
    "\n",
    "# Get the tweets by their class (similar to Beautifulsoup's find({'class':'something'}))\n",
    "scores = browser.find_elements_by_xpath(\"//div[@data-testid='retweet']\");\n",
    "\n",
    "output_file = open('twitter_scores.csv','w')\n",
    "\n",
    "# Print Tweets\n",
    "for score in scores:\n",
    "    if score.text!= \"\":\n",
    "        print('Retweets: '+ score.text)\n",
    "        output_file.write(str(score.text)+\"\\n\")\n",
    "\n",
    "output_file.close()    "
   ]
  },
  {
   "cell_type": "code",
   "execution_count": 4,
   "metadata": {},
   "outputs": [
    {
     "name": "stdout",
     "output_type": "stream",
     "text": [
      "Retweets: 10.8K\n",
      "Retweets: 41.8K\n",
      "Retweets: 50.2K\n",
      "Retweets: 182.4K\n",
      "Retweets: 17.2K\n",
      "Retweets: 36.2K\n",
      "Retweets: 4.2K\n",
      "Retweets: 2.6K\n",
      "Retweets: 1.9K\n"
     ]
    }
   ],
   "source": [
    "# launch the browser\n",
    "browser = get_a_browser()\n",
    "\n",
    "# launch the Twitter search page\n",
    "twitter_url = 'https://twitter.com/BarackObama'\n",
    "\n",
    "# Add the search term\n",
    "query = ''\n",
    "\n",
    "# Create the url\n",
    "url = twitter_url+query\n",
    "\n",
    "# Get the page\n",
    "browser.get(url)\n",
    "\n",
    "# Let the Tweets load\n",
    "time.sleep(1)\n",
    "\n",
    "# Find the body of the page\n",
    "body = browser.find_element_by_tag_name('body')\n",
    "\n",
    "# Keep scrolling down using a simulation of the PAGE_DOWN button\n",
    "for _ in range(5):\n",
    "    body.send_keys(Keys.PAGE_DOWN)\n",
    "    time.sleep(0.2)\n",
    "\n",
    "# Get the tweets by their class (similar to Beautifulsoup's find({'class':'something'}))\n",
    "scores = browser.find_elements_by_xpath(\"//div[@data-testid='retweet']\");\n",
    "\n",
    "output_file = open('twitter_scores.csv','w')\n",
    "\n",
    "# Print Tweets\n",
    "for score in scores:\n",
    "    if score.text!= \"\":\n",
    "        print('Retweets: '+ score.text)\n",
    "        output_file.write(str(score.text)+\"\\n\")\n",
    "\n",
    "output_file.close()    "
   ]
  }
 ],
 "metadata": {
  "kernelspec": {
   "display_name": "Python 3",
   "language": "python",
   "name": "python3"
  },
  "language_info": {
   "codemirror_mode": {
    "name": "ipython",
    "version": 3
   },
   "file_extension": ".py",
   "mimetype": "text/x-python",
   "name": "python",
   "nbconvert_exporter": "python",
   "pygments_lexer": "ipython3",
   "version": "3.8.5"
  }
 },
 "nbformat": 4,
 "nbformat_minor": 2
}
